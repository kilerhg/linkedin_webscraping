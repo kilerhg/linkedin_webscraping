{
 "cells": [
  {
   "cell_type": "code",
   "execution_count": 80,
   "id": "e20956df",
   "metadata": {},
   "outputs": [],
   "source": [
    "import csv\n",
    "from time import sleep\n",
    "from selenium import webdriver\n",
    "from parsel import Selector\n",
    "from selenium.webdriver import Firefox"
   ]
  },
  {
   "cell_type": "code",
   "execution_count": 82,
   "id": "f6a2a822",
   "metadata": {},
   "outputs": [],
   "source": [
    "linkedin_urls =  ['https://www.linkedin.com/in/andr%C3%A9-felipe-guisasola-antunes-9a0490173/']\n",
    "linkedin_url = 'https://www.linkedin.com/in/andr%C3%A9-felipe-guisasola-antunes-9a0490173/'"
   ]
  },
  {
   "cell_type": "code",
   "execution_count": 3,
   "id": "8597d1b7",
   "metadata": {},
   "outputs": [
    {
     "name": "stdout",
     "output_type": "stream",
     "text": [
      "Digite usuariolucas.alemao123456@hotmail.com\n",
      "Digite senha4KVEzLTCj4WPnQL\n"
     ]
    }
   ],
   "source": [
    "usuario = input('Digite usuario')\n",
    "senha = input('Digite senha')"
   ]
  },
  {
   "cell_type": "code",
   "execution_count": 83,
   "id": "34c2d603",
   "metadata": {},
   "outputs": [],
   "source": [
    "driver = Firefox()"
   ]
  },
  {
   "cell_type": "code",
   "execution_count": 84,
   "id": "90392423",
   "metadata": {},
   "outputs": [],
   "source": [
    "driver.get('https://www.linkedin.com')"
   ]
  },
  {
   "cell_type": "code",
   "execution_count": 85,
   "id": "c3ee1897",
   "metadata": {},
   "outputs": [],
   "source": [
    "username = driver.find_element_by_id('session_key')\n",
    "# Envia senha\n",
    "username.send_keys(f'{usuario}')\n",
    "# dormida de 0.5 segundos\n",
    "sleep(1.0)\n",
    "# encontra categoria de senha\n",
    "password = driver.find_element_by_id('session_password')\n",
    "# solicita-se senha e a envia\n",
    "# sugestão de alteração senha = input('Digite sua senha do linkedin: ') e password.send_keys(senha)\n",
    "password.send_keys(f'{senha}')\n",
    "# dormida de 0.5 segundos\n",
    "sleep(1.0)\n",
    "# localiza-se o botão de entrar\n",
    "log_in_button = driver.find_element_by_class_name('sign-in-form__submit-button')\n",
    "#clia-se no botão\n",
    "log_in_button.click()\n"
   ]
  },
  {
   "cell_type": "code",
   "execution_count": 171,
   "id": "9341ea92",
   "metadata": {},
   "outputs": [],
   "source": [
    "driver.get('https://www.linkedin.com/in/vitorsds/') # o perfil da pessoa é acessado\n",
    "sleep(5) # tempo de espera de 5 segundos"
   ]
  },
  {
   "cell_type": "code",
   "execution_count": 172,
   "id": "583903ad",
   "metadata": {},
   "outputs": [
    {
     "name": "stdout",
     "output_type": "stream",
     "text": [
      "<Selector xpath=None data='<html class=\"theme theme--mercado art...'>\n"
     ]
    }
   ],
   "source": [
    "# https://www.linkedin.com/in/vitorsds/\n",
    "vit = Selector(text=driver.page_source) # coleta-se o código fonte da página daquele perfil\n",
    "print(sel)"
   ]
  },
  {
   "cell_type": "code",
   "execution_count": 150,
   "id": "e2d9163d",
   "metadata": {},
   "outputs": [
    {
     "name": "stdout",
     "output_type": "stream",
     "text": [
      "<Selector xpath=None data='<html class=\"theme theme--mercado art...'>\n"
     ]
    }
   ],
   "source": [
    "#sel = Selector(text=driver.page_source) # coleta-se o código fonte da página daquele perfil\n",
    "meu = Selector(text=driver.page_source) # coleta-se o código fonte da página daquele perfil\n",
    "print(sel)\n"
   ]
  },
  {
   "cell_type": "code",
   "execution_count": 155,
   "id": "2f88c4ec",
   "metadata": {},
   "outputs": [
    {
     "name": "stdout",
     "output_type": "stream",
     "text": [
      "\n",
      "              André Felipe Guisasola Antunes\n",
      "            \n"
     ]
    }
   ],
   "source": [
    "name = sel.xpath('//div[@class=\"flex-1 mr5 pv-top-card__list-container\"]/ul/li/text()').extract_first()\n",
    "print(name)\n"
   ]
  },
  {
   "cell_type": "code",
   "execution_count": 152,
   "id": "0bf13410",
   "metadata": {},
   "outputs": [
    {
     "name": "stdout",
     "output_type": "stream",
     "text": [
      "André Felipe Guisasola Antunes\n"
     ]
    }
   ],
   "source": [
    "if name:\n",
    "    name = name.strip()\n",
    "    print(name)\n",
    "else:\n",
    "    print('Nome não encontrado\\n')"
   ]
  },
  {
   "cell_type": "code",
   "execution_count": 91,
   "id": "864c997c",
   "metadata": {},
   "outputs": [
    {
     "name": "stdout",
     "output_type": "stream",
     "text": [
      "\n",
      "              Capitão na Ecocar UNICAMP\n",
      "            \n"
     ]
    }
   ],
   "source": [
    "job_title = sel.xpath('//div[@class=\"flex-1 mr5 pv-top-card__list-container\"]/h2/text()').extract_first()\n",
    "print(job_title)"
   ]
  },
  {
   "cell_type": "code",
   "execution_count": 92,
   "id": "55c83e69",
   "metadata": {},
   "outputs": [
    {
     "name": "stdout",
     "output_type": "stream",
     "text": [
      "Capitão na Ecocar UNICAMP\n"
     ]
    }
   ],
   "source": [
    "if job_title:\n",
    "    job_title = job_title.strip()\n",
    "    print(job_title)\n",
    "else:\n",
    "    print('Trabalho não encontrado\\n')"
   ]
  },
  {
   "cell_type": "code",
   "execution_count": 93,
   "id": "cf1e0a22",
   "metadata": {},
   "outputs": [
    {
     "name": "stdout",
     "output_type": "stream",
     "text": [
      "['  Ecocar UNICAMP\\n\\n', '  Universidade Estadual de Campinas\\n\\n']\n"
     ]
    }
   ],
   "source": [
    "company_college = sel.xpath('//ul[@class=\"pv-top-card--experience-list\"]/li/a/span/text()').getall()\n",
    "print(company_college)"
   ]
  },
  {
   "cell_type": "code",
   "execution_count": 94,
   "id": "23616a0d",
   "metadata": {},
   "outputs": [],
   "source": [
    "if len(company_college) > 1:\n",
    "    company = company_college[0]\n",
    "    college = company_college[1]\n",
    "else:\n",
    "    company = ''\n",
    "    college = company_college[0]"
   ]
  },
  {
   "cell_type": "code",
   "execution_count": 95,
   "id": "49e1fee6",
   "metadata": {},
   "outputs": [
    {
     "name": "stdout",
     "output_type": "stream",
     "text": [
      "Ecocar UNICAMP\n"
     ]
    }
   ],
   "source": [
    "if company:\n",
    "    company = company.strip()\n",
    "    print(company)\n",
    "else:\n",
    "    print('Empresa não encontrada\\n')"
   ]
  },
  {
   "cell_type": "code",
   "execution_count": 96,
   "id": "5bd28e3e",
   "metadata": {},
   "outputs": [
    {
     "name": "stdout",
     "output_type": "stream",
     "text": [
      "Universidade Estadual de Campinas\n"
     ]
    }
   ],
   "source": [
    "if college:\n",
    "    college = college.strip()\n",
    "    print(college)\n",
    "else:\n",
    "    print('Acadêmico não encontrado\\n')"
   ]
  },
  {
   "cell_type": "code",
   "execution_count": null,
   "id": "869b2d1d",
   "metadata": {},
   "outputs": [],
   "source": [
    "# /ul/li/div/div/div[1]/a/div[2]/div/h3/text()\n"
   ]
  },
  {
   "cell_type": "code",
   "execution_count": 159,
   "id": "466c067d",
   "metadata": {},
   "outputs": [
    {
     "name": "stdout",
     "output_type": "stream",
     "text": [
      "['E.E antonio carlos da trindade', 'SAGA - School of Art, Game and Animation', 'Grupo All NeT']\n"
     ]
    }
   ],
   "source": [
    "faculdades = meu.xpath('//section[@class=\"pv-profile-section education-section ember-view\"]/ul/li/div/div/div[1]/a/div[2]/div/h3/text()').getall()\n",
    "print(faculdades)"
   ]
  },
  {
   "cell_type": "code",
   "execution_count": 176,
   "id": "4c18ff65",
   "metadata": {},
   "outputs": [
    {
     "name": "stdout",
     "output_type": "stream",
     "text": [
      "['<div class=\"display-flex flex-column full-width\">\\n<a data-control-name=\"background_details_school\" href=\"/school/10645/?legacySchoolId=10645\" id=\"ember130\" class=\"ember-view\">        <div class=\"pv-entity__logo\">\\n  <img src=\"https://media-exp1.licdn.com/dms/image/C4E0BAQGkepCvZp_oww/company-logo_100_100/0/1519892290621?e=1626912000&amp;v=beta&amp;t=rpgSc0eHkxIybSdszFgKci-XnZTvKg_qKf1F3HU4N4Y\" loading=\"lazy\" alt=\"Universidade Estadual de Campinas\" id=\"ember132\" class=\"pv-entity__logo-img pv-entity__logo-img EntityPhoto-square-4 lazy-image ember-view\">\\n</div>\\n\\n<div class=\"pv-entity__summary-info pv-entity__summary-info--background-section\">\\n  <div class=\"pv-entity__degree-info\">\\n    <h3 class=\"pv-entity__school-name t-16 t-black t-bold\">Universidade Estadual de Campinas</h3>\\n\\n<!---->      <p class=\"pv-entity__secondary-title pv-entity__fos t-14 t-black t-normal\">\\n        <span class=\"visually-hidden\">Área de estudo</span>\\n        <span class=\"pv-entity__comma-item\">Engenharia Mecânica</span>\\n      </p>\\n<!---->  </div>\\n\\n    <p class=\"pv-entity__dates t-14 t-black--light t-normal\">\\n      <span class=\"visually-hidden\">Período (ou ano previsto para a graduação)</span>\\n      <span>\\n            <time>2018</time> – <time>2022</time>\\n      </span>\\n    </p>\\n\\n<!----></div>\\n\\n</a>\\n<!---->  </div>', '<div class=\"display-flex flex-column full-width\">\\n<a data-control-name=\"background_details_school\" href=\"/school/3155318/?legacySchoolId=3155318\" id=\"ember134\" class=\"ember-view\">        <div class=\"pv-entity__logo\">\\n  <img src=\"https://media-exp1.licdn.com/dms/image/C4D0BAQEHY8lIefIXVA/company-logo_100_100/0/1530119934497?e=1626912000&amp;v=beta&amp;t=mYu96JFfo8KD4klB7rbwLCegfIowW4Nk-2teQrF3YhQ\" loading=\"lazy\" alt=\"McGill University School of Continuing Studies\" id=\"ember136\" class=\"pv-entity__logo-img pv-entity__logo-img EntityPhoto-square-4 lazy-image ember-view\">\\n</div>\\n\\n<div class=\"pv-entity__summary-info pv-entity__summary-info--background-section\">\\n  <div class=\"pv-entity__degree-info\">\\n    <h3 class=\"pv-entity__school-name t-16 t-black t-bold\">McGill University School of Continuing Studies</h3>\\n\\n<!---->      <p class=\"pv-entity__secondary-title pv-entity__fos t-14 t-black t-normal\">\\n        <span class=\"visually-hidden\">Área de estudo</span>\\n        <span class=\"pv-entity__comma-item\">Innovation and Entrepreneurship</span>\\n      </p>\\n<!---->  </div>\\n\\n    <p class=\"pv-entity__dates t-14 t-black--light t-normal\">\\n      <span class=\"visually-hidden\">Período (ou ano previsto para a graduação)</span>\\n      <span>\\n            <time>2020</time> – <time>2020</time>\\n      </span>\\n    </p>\\n\\n<!----></div>\\n\\n</a>\\n      <div id=\"ember137\" class=\"pv-entity__extra-details t-14 t-black--light ember-view\"><p class=\"pv-entity__description t-14 t-normal mt4\">\\n  <!---->\\n</p>\\n\\n  <div id=\"ember138\" class=\"pv-occludable__entity-details ember-view\"><!----></div>\\n</div>\\n  </div>', '<div class=\"display-flex flex-column full-width\">\\n<a data-control-name=\"background_details_school\" href=\"/school/3155318/?legacySchoolId=3155318\" id=\"ember140\" class=\"ember-view\">        <div class=\"pv-entity__logo\">\\n  <img src=\"https://media-exp1.licdn.com/dms/image/C4D0BAQEHY8lIefIXVA/company-logo_100_100/0/1530119934497?e=1626912000&amp;v=beta&amp;t=mYu96JFfo8KD4klB7rbwLCegfIowW4Nk-2teQrF3YhQ\" loading=\"lazy\" alt=\"McGill University School of Continuing Studies\" id=\"ember142\" class=\"pv-entity__logo-img pv-entity__logo-img EntityPhoto-square-4 lazy-image ember-view\">\\n</div>\\n\\n<div class=\"pv-entity__summary-info pv-entity__summary-info--background-section\">\\n  <div class=\"pv-entity__degree-info\">\\n    <h3 class=\"pv-entity__school-name t-16 t-black t-bold\">McGill University School of Continuing Studies</h3>\\n\\n<!---->      <p class=\"pv-entity__secondary-title pv-entity__fos t-14 t-black t-normal\">\\n        <span class=\"visually-hidden\">Área de estudo</span>\\n        <span class=\"pv-entity__comma-item\">Project Management</span>\\n      </p>\\n<!---->  </div>\\n\\n    <p class=\"pv-entity__dates t-14 t-black--light t-normal\">\\n      <span class=\"visually-hidden\">Período (ou ano previsto para a graduação)</span>\\n      <span>\\n            <time>2019</time> – <time>2019</time>\\n      </span>\\n    </p>\\n\\n<!----></div>\\n\\n</a>\\n      <div id=\"ember143\" class=\"pv-entity__extra-details t-14 t-black--light ember-view\"><p class=\"pv-entity__description t-14 t-normal mt4\">\\n  <!---->\\n</p>\\n\\n  <div id=\"ember144\" class=\"pv-occludable__entity-details ember-view\"><!----></div>\\n</div>\\n  </div>']\n"
     ]
    }
   ],
   "source": [
    "ano = sel.xpath('//section[@class=\"pv-profile-section education-section ember-view\"]/ul/li/div/div').getall()\n",
    "print(ano)\n",
    "\n",
    "#ano = sel.xpath('//section[@class=\"pv-profile-section education-section ember-view\"]/ul/li/div/div/div[1]/a/div[2]/p/span[2]/time/text()').getall()\n",
    "# print(ano)"
   ]
  },
  {
   "cell_type": "code",
   "execution_count": 184,
   "id": "c542d379",
   "metadata": {},
   "outputs": [
    {
     "name": "stdout",
     "output_type": "stream",
     "text": [
      "['2021', '2022', '2015', '2020']\n"
     ]
    }
   ],
   "source": [
    "ano = vit.xpath('//p[@class=\"pv-entity__dates t-14 t-black--light t-normal\"]/span[2]/time/text()').getall()\n",
    "print(ano)"
   ]
  },
  {
   "cell_type": "code",
   "execution_count": 140,
   "id": "db8db6c5",
   "metadata": {},
   "outputs": [
    {
     "name": "stdout",
     "output_type": "stream",
     "text": [
      "['Conselheiro', 'Presidente da Miniempresa']\n"
     ]
    }
   ],
   "source": [
    "titulo_emprego = sel.xpath('//ul[@class=\"pv-profile-section__section-info section-info pv-profile-section__section-info--has-no-more\"]/li/section/div/div[1]/a/div[2]/h3/text()').getall()\n",
    "\n",
    "print(titulo_emprego)"
   ]
  },
  {
   "cell_type": "code",
   "execution_count": 78,
   "id": "66032ff1",
   "metadata": {},
   "outputs": [
    {
     "name": "stdout",
     "output_type": "stream",
     "text": [
      "nao_aluno\n"
     ]
    }
   ],
   "source": [
    "if 'Universidade Estadual de Campinas' in faculdades:\n",
    "    print('aluno')\n",
    "else:\n",
    "    print('nao_aluno')"
   ]
  },
  {
   "cell_type": "code",
   "execution_count": 192,
   "id": "ead1cbe3",
   "metadata": {},
   "outputs": [
    {
     "name": "stdout",
     "output_type": "stream",
     "text": [
      "['E.E antonio carlos da trindade', 'SAGA - School of Art, Game and Animation', 'Grupo All NeT']\n"
     ]
    }
   ],
   "source": [
    "faculdades = meu.xpath('//h3[@class=\"pv-entity__school-name t-16 t-black t-bold\"]/text()').getall()\n",
    "print(faculdades)"
   ]
  },
  {
   "cell_type": "code",
   "execution_count": 324,
   "id": "e8f19215",
   "metadata": {},
   "outputs": [],
   "source": [
    "# dando prioridade para arvore\n",
    "\n",
    "#arvore = sel.xpath('//li[@class=\"pv-entity__position-group-pager pv-profile-section__list-item ember-view\"]/section/ul').extract_first()\n",
    "\n",
    "arvore = vit.xpath('//ul[@class=\"pv-profile-section__section-info section-info pv-profile-section__section-info--has-no-more\"]/li[1]/section/ul').extract_first()\n",
    "\n",
    "if arvore:\n",
    "    cargo = vit.xpath('//li[@class=\"pv-entity__position-group-pager pv-profile-section__list-item ember-view\"]/section/ul/li[1]/div/div/div/div/div/div/h3/span[2]/text()').extract_first()\n",
    "    empresa_cargo = vit.xpath('//li[@class=\"pv-entity__position-group-pager pv-profile-section__list-item ember-view\"]/section/div/a/div/div[2]/h3/span[2]/text()').extract_first()\n",
    "else:\n",
    "    cargo = vit.xpath('//li[@class=\"pv-entity__position-group-pager pv-profile-section__list-item ember-view\"]/section/div/div[1]/a/div[2]/h3/text()').extract_first()\n",
    "    empresa_cargo = vit.xpath('//li[@class=\"pv-entity__position-group-pager pv-profile-section__list-item ember-view\"]/section/div/div/a/div[2]/p[2]/text()').extract_first()"
   ]
  },
  {
   "cell_type": "code",
   "execution_count": 326,
   "id": "7dd0ca17",
   "metadata": {},
   "outputs": [
    {
     "name": "stdout",
     "output_type": "stream",
     "text": [
      "\n",
      "Cargo: Corporate Relationship Manager\n",
      "Empresa: \n",
      "      XP Inc.\n",
      "        \n",
      "\n",
      "\n"
     ]
    }
   ],
   "source": [
    "print(f'''\n",
    "Cargo: {cargo}\n",
    "Empresa: {empresa_cargo}\n",
    "\n",
    "''')"
   ]
  },
  {
   "cell_type": "code",
   "execution_count": 317,
   "id": "b9ab9e76",
   "metadata": {},
   "outputs": [
    {
     "name": "stdout",
     "output_type": "stream",
     "text": [
      "<ul class=\"pv-entity__position-group mt2\">\n",
      "        <li class=\"pv-entity__position-group-role-item\">\n",
      "          <div id=\"ember110\" class=\"ember-view\"><div class=\"pv-entity__role-details\">\n",
      "  <span class=\"pv-entity__timeline-node\"></span>\n",
      "  <div class=\"display-flex justify-space-between full-width\">\n",
      "    <div class=\"pv-entity__role-container\">\n",
      "      <div class=\"pv-entity__role-details-container pv-entity__role-details-container--timeline pv-entity__role-details-container--bottom-margin\">\n",
      "\n",
      "        <div class=\"pv-entity__summary-info-v2 pv-entity__summary-info--background-section pv-entity__summary-info-margin-top \">\n",
      "          <h3 class=\"t-14 t-black t-bold\">\n",
      "            <span class=\"visually-hidden\">Cargo</span>\n",
      "            <span>Líder de equipe</span>\n",
      "          </h3>\n",
      "<!---->            <div class=\"display-flex\">\n",
      "              <h4 class=\"pv-entity__date-range t-14 t-black--light t-normal\">\n",
      "                <span class=\"visually-hidden\">Período do emprego</span>\n",
      "                <span>out. de 2019 – o momento</span>\n",
      "              </h4>\n",
      "                <h4 class=\"t-14 t-black--light t-normal\">\n",
      "                  <span class=\"visually-hidden\">Duração</span>\n",
      "                  <span class=\"pv-entity__bullet-item-v2\">1 ano 7 meses</span>\n",
      "                </h4>\n",
      "            </div>\n",
      "\n",
      "            <h4 class=\"pv-entity__location t-14 t-black--light t-normal block\">\n",
      "              <span class=\"visually-hidden\">Localidade</span>\n",
      "              <span>Campinas, São Paulo, Brasil</span>\n",
      "            </h4>\n",
      "<!---->        </div>\n",
      "\n",
      "\n",
      "<!---->      </div>\n",
      "    </div>\n",
      "\n",
      "<!---->  </div>\n",
      "</div>\n",
      "</div>\n",
      "        </li>\n",
      "        <li class=\"pv-entity__position-group-role-item\">\n",
      "          <div id=\"ember111\" class=\"ember-view\"><div class=\"pv-entity__role-details\">\n",
      "  <span class=\"pv-entity__timeline-node\"></span>\n",
      "  <div class=\"display-flex justify-space-between full-width\">\n",
      "    <div class=\"pv-entity__role-container\">\n",
      "      <div class=\"pv-entity__role-details-container pv-entity__role-details-container--timeline pv-entity__role-details-container--bottom-margin\">\n",
      "\n",
      "        <div class=\"pv-entity__summary-info-v2 pv-entity__summary-info--background-section pv-entity__summary-info-margin-top \">\n",
      "          <h3 class=\"t-14 t-black t-bold\">\n",
      "            <span class=\"visually-hidden\">Cargo</span>\n",
      "            <span>Diretor Administrativo</span>\n",
      "          </h3>\n",
      "<!---->            <div class=\"display-flex\">\n",
      "              <h4 class=\"pv-entity__date-range t-14 t-black--light t-normal\">\n",
      "                <span class=\"visually-hidden\">Período do emprego</span>\n",
      "                <span>nov. de 2018 – out. de 2019</span>\n",
      "              </h4>\n",
      "                <h4 class=\"t-14 t-black--light t-normal\">\n",
      "                  <span class=\"visually-hidden\">Duração</span>\n",
      "                  <span class=\"pv-entity__bullet-item-v2\">1 ano</span>\n",
      "                </h4>\n",
      "            </div>\n",
      "\n",
      "            <h4 class=\"pv-entity__location t-14 t-black--light t-normal block\">\n",
      "              <span class=\"visually-hidden\">Localidade</span>\n",
      "              <span>Campinas, São Paulo, Brasil</span>\n",
      "            </h4>\n",
      "<!---->        </div>\n",
      "\n",
      "\n",
      "<!---->      </div>\n",
      "    </div>\n",
      "\n",
      "<!---->  </div>\n",
      "</div>\n",
      "</div>\n",
      "        </li>\n",
      "        <li class=\"pv-entity__position-group-role-item\">\n",
      "          <div id=\"ember112\" class=\"ember-view\"><div class=\"pv-entity__role-details\">\n",
      "  <span class=\"pv-entity__timeline-node\"></span>\n",
      "  <div class=\"display-flex justify-space-between full-width\">\n",
      "    <div class=\"pv-entity__role-container\">\n",
      "      <div class=\"pv-entity__role-details-container  \">\n",
      "\n",
      "        <div class=\"pv-entity__summary-info-v2 pv-entity__summary-info--background-section pv-entity__summary-info-margin-top \">\n",
      "          <h3 class=\"t-14 t-black t-bold\">\n",
      "            <span class=\"visually-hidden\">Cargo</span>\n",
      "            <span>Membro - Departamento Administrativo</span>\n",
      "          </h3>\n",
      "<!---->            <div class=\"display-flex\">\n",
      "              <h4 class=\"pv-entity__date-range t-14 t-black--light t-normal\">\n",
      "                <span class=\"visually-hidden\">Período do emprego</span>\n",
      "                <span>abr. de 2018 – nov. de 2018</span>\n",
      "              </h4>\n",
      "                <h4 class=\"t-14 t-black--light t-normal\">\n",
      "                  <span class=\"visually-hidden\">Duração</span>\n",
      "                  <span class=\"pv-entity__bullet-item-v2\">8 meses</span>\n",
      "                </h4>\n",
      "            </div>\n",
      "\n",
      "            <h4 class=\"pv-entity__location t-14 t-black--light t-normal block\">\n",
      "              <span class=\"visually-hidden\">Localidade</span>\n",
      "              <span>Campinas, São Paulo, Brasil</span>\n",
      "            </h4>\n",
      "<!---->        </div>\n",
      "\n",
      "\n",
      "<!---->      </div>\n",
      "    </div>\n",
      "\n",
      "<!---->  </div>\n",
      "</div>\n",
      "</div>\n",
      "        </li>\n",
      "    </ul>\n"
     ]
    }
   ],
   "source": [
    "# pv-profile-section__section-info section-info pv-profile-section__section-info--has-no-more\n",
    "\n",
    "arvore = sel.xpath('//ul[@class=\"pv-profile-section__section-info section-info pv-profile-section__section-info--has-no-more\"]/li[1]/section/ul').extract_first()\n",
    "print(arvore)"
   ]
  },
  {
   "cell_type": "code",
   "execution_count": 331,
   "id": "8ee9d858",
   "metadata": {},
   "outputs": [],
   "source": [
    "# dando prioridade para arvore\n",
    "\n",
    "arvore = sel.xpath('//ul[@class=\"pv-profile-section__section-info section-info pv-profile-section__section-info--has-no-more\"]/li/section/ul').extract_first()\n",
    "\n",
    "if arvore:\n",
    "    cargo = sel.xpath('//li[@class=\"pv-entity__position-group-pager pv-profile-section__list-item ember-view\"]/section/ul/li[1]/div/div/div/div/div/div/h3/span[2]/text()').extract_first()\n",
    "    empresa_cargo = sel.xpath('//li[@class=\"pv-entity__position-group-pager pv-profile-section__list-item ember-view\"]/section/div/a/div/div[2]/h3/span[2]/text()').extract_first()\n",
    "else:\n",
    "    cargo = sel.xpath('//li[@class=\"pv-entity__position-group-pager pv-profile-section__list-item ember-view\"]/section/div/div[1]/a/div[2]/h3/text()').extract_first()\n",
    "    empresa_cargo = sel.xpath('//li[@class=\"pv-entity__position-group-pager pv-profile-section__list-item ember-view\"]/section/div/div/a/div[2]/p[2]/text()').extract_first()"
   ]
  },
  {
   "cell_type": "code",
   "execution_count": 426,
   "id": "37d5e196",
   "metadata": {},
   "outputs": [
    {
     "name": "stdout",
     "output_type": "stream",
     "text": [
      "Engenheiro de Computação\n",
      "2015 2020\n"
     ]
    }
   ],
   "source": [
    "faculdades = vit.xpath('//h3[@class=\"pv-entity__school-name t-16 t-black t-bold\"]/text()').getall()\n",
    "ano = vit.xpath('//p[@class=\"pv-entity__dates t-14 t-black--light t-normal\"]/span[2]/time/text()').getall()\n",
    "curso_atual = vit.xpath('//p[@class=\"pv-entity__secondary-title pv-entity__fos t-14 t-black t-normal\"]/span[2]/text()').getall()\n",
    "if 'Universidade Estadual de Campinas' in faculdades:\n",
    "    valor_index = faculdades.index('Universidade Estadual de Campinas')        \n",
    "    a = valor_index * 2\n",
    "    ano_inicio, ano_termino = ano[a:a+2]\n",
    "    curso_atual = curso_atual[valor_index]\n",
    "    aluno = 'sim'\n",
    "    print(curso_atual)\n",
    "    print(ano_inicio,ano_termino)\n",
    "else:\n",
    "    print('não Aluno')\n",
    "    ano_inicio, ano_termino = '---','---'\n",
    "    curso_atual = '---'\n",
    "    aluno = 'nao'\n",
    "    print(curso_atual)\n",
    "    print(ano_inicio,ano_termino)\n",
    " "
   ]
  },
  {
   "cell_type": "code",
   "execution_count": 398,
   "id": "aa2300ba",
   "metadata": {},
   "outputs": [
    {
     "name": "stdout",
     "output_type": "stream",
     "text": [
      "['__add__', '__class__', '__contains__', '__delattr__', '__delitem__', '__dir__', '__doc__', '__eq__', '__format__', '__ge__', '__getattribute__', '__getitem__', '__gt__', '__hash__', '__iadd__', '__imul__', '__init__', '__init_subclass__', '__iter__', '__le__', '__len__', '__lt__', '__mul__', '__ne__', '__new__', '__reduce__', '__reduce_ex__', '__repr__', '__reversed__', '__rmul__', '__setattr__', '__setitem__', '__sizeof__', '__str__', '__subclasshook__', 'append', 'clear', 'copy', 'count', 'extend', 'index', 'insert', 'pop', 'remove', 'reverse', 'sort']\n"
     ]
    }
   ],
   "source": [
    "print(dir(faculdades))"
   ]
  },
  {
   "cell_type": "code",
   "execution_count": 422,
   "id": "8b3afe82",
   "metadata": {},
   "outputs": [
    {
     "name": "stdout",
     "output_type": "stream",
     "text": [
      "['Engenharia Mecânica', 'Innovation and Entrepreneurship', 'Project Management']\n"
     ]
    }
   ],
   "source": [
    "print(curso_atual)"
   ]
  },
  {
   "cell_type": "code",
   "execution_count": 413,
   "id": "fa6daf62",
   "metadata": {},
   "outputs": [
    {
     "data": {
      "text/plain": [
       "2"
      ]
     },
     "execution_count": 413,
     "metadata": {},
     "output_type": "execute_result"
    }
   ],
   "source": [
    "\n"
   ]
  },
  {
   "cell_type": "code",
   "execution_count": null,
   "id": "f053f924",
   "metadata": {},
   "outputs": [],
   "source": []
  },
  {
   "cell_type": "code",
   "execution_count": null,
   "id": "4f37df17",
   "metadata": {},
   "outputs": [],
   "source": []
  },
  {
   "cell_type": "code",
   "execution_count": null,
   "id": "03d1f4a9",
   "metadata": {},
   "outputs": [],
   "source": []
  },
  {
   "cell_type": "code",
   "execution_count": null,
   "id": "3bc2d005",
   "metadata": {},
   "outputs": [],
   "source": []
  },
  {
   "cell_type": "code",
   "execution_count": null,
   "id": "7eca7aeb",
   "metadata": {},
   "outputs": [],
   "source": [
    "drive.quite()"
   ]
  }
 ],
 "metadata": {
  "kernelspec": {
   "display_name": "Python 3",
   "language": "python",
   "name": "python3"
  },
  "language_info": {
   "codemirror_mode": {
    "name": "ipython",
    "version": 3
   },
   "file_extension": ".py",
   "mimetype": "text/x-python",
   "name": "python",
   "nbconvert_exporter": "python",
   "pygments_lexer": "ipython3",
   "version": "3.8.2"
  }
 },
 "nbformat": 4,
 "nbformat_minor": 5
}
